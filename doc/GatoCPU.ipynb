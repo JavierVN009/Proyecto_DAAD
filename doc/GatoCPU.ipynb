{
 "cells": [
  {
   "cell_type": "markdown",
   "id": "95adcf71-6154-44ce-ae5f-862e4bbd778b",
   "metadata": {},
   "source": [
    "<h3>Clase que simula los movimientos que puede hacer un Gato controlado por la computadora, en el juego del gato y el raton (como una ficha de color negro)</h3>\n",
    "<ul>\n",
    "    <li>@author Javier Valdes Nava</li>\n",
    "    <li>@since 2025</li>\n",
    "    <li>@version 1.0</li>\n",
    "    <li>@see Gato</li>\n",
    "</ul>\n",
    "\n",
    "<h3>ATRIBUTOS</h3>\n",
    "<ul>\n",
    "    <li>list posicion : La posición donde se encuentra la ficha</li>\n",
    "    <li>str color : El color de la ficha (blanca o negra)</li>\n",
    "    <li>int movimientos : Cantidad de movimientos que podemos dar depende la posición donde nos encontremos.</li>\n",
    "</ul>\n",
    "\n",
    "<h3>METODOS</h3>\n",
    "\n",
    "<h4>moverGato(list : arr, Gato : chat)</h4>\n",
    "<p>Metodo que decide a donde se mueve el gato computadora a partir de un pseudo-codigo random de la librería Random. </p>\n",
    "<ul>\n",
    "    <li><span style = \"color : blue;\">param </span> arr - Un arreglo de cadenas con los posibles movimientos del gato, al final se va a terminar moviendo a alguno de esos y se va a sustituir la posicion. </li>\n",
    "    <li><span style = \"color : blue;\">param </span> chat - El gato al que vamos a mover. </li>\n",
    "</ul>"
   ]
  },
  {
   "cell_type": "code",
   "execution_count": 2,
   "id": "d0285461-9e3c-4bb2-9b98-41f30925194b",
   "metadata": {},
   "outputs": [
    {
     "ename": "NameError",
     "evalue": "name 'Gato' is not defined",
     "output_type": "error",
     "traceback": [
      "\u001b[0;31m---------------------------------------------------------------------------\u001b[0m",
      "\u001b[0;31mNameError\u001b[0m                                 Traceback (most recent call last)",
      "Cell \u001b[0;32mIn[2], line 3\u001b[0m\n\u001b[1;32m      1\u001b[0m \u001b[38;5;28;01mfrom\u001b[39;00m \u001b[38;5;21;01mrandom\u001b[39;00m \u001b[38;5;28;01mimport\u001b[39;00m randrange \n\u001b[0;32m----> 3\u001b[0m \u001b[38;5;28;01mclass\u001b[39;00m \u001b[38;5;21;01mGatoCPU\u001b[39;00m(\u001b[43mGato\u001b[49m):\n\u001b[1;32m      4\u001b[0m     \u001b[38;5;28;01mdef\u001b[39;00m \u001b[38;5;21m__init__\u001b[39m(\u001b[38;5;28mself\u001b[39m, pos):\n\u001b[1;32m      5\u001b[0m         \u001b[38;5;28msuper\u001b[39m()\u001b[38;5;241m.\u001b[39m\u001b[38;5;21m__init__\u001b[39m(pos)\n",
      "\u001b[0;31mNameError\u001b[0m: name 'Gato' is not defined"
     ]
    }
   ],
   "source": [
    "from random import randrange \n",
    "\n",
    "class GatoCPU(Gato):\n",
    "    def __init__(self, pos):\n",
    "        super().__init__(pos)\n",
    "        \n",
    "    def moverGato(self, arr):\n",
    "        if(len(arr) == 0):\n",
    "            pass\n",
    "            \n",
    "        elif(len(arr) == 1):\n",
    "            self.asignarPosicion([arr[0][0], arr[0][1]])\n",
    "            \n",
    "        else:\n",
    "            rand = randrange(2)\n",
    "            if(rand == 0):\n",
    "                self.asignarPosicion([arr[0][0], arr[0][1]])\n",
    "            else:\n",
    "                self.asignarPosicion([arr[1][0], arr[1][1]])\n",
    "                "
   ]
  },
  {
   "cell_type": "code",
   "execution_count": null,
   "id": "02eaf9cc-efde-4952-ab1d-4688624b4afc",
   "metadata": {},
   "outputs": [],
   "source": []
  }
 ],
 "metadata": {
  "kernelspec": {
   "display_name": "Python 3 (ipykernel)",
   "language": "python",
   "name": "python3"
  },
  "language_info": {
   "codemirror_mode": {
    "name": "ipython",
    "version": 3
   },
   "file_extension": ".py",
   "mimetype": "text/x-python",
   "name": "python",
   "nbconvert_exporter": "python",
   "pygments_lexer": "ipython3",
   "version": "3.13.3"
  }
 },
 "nbformat": 4,
 "nbformat_minor": 5
}
